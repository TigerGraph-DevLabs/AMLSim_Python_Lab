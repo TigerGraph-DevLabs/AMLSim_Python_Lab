{
  "nbformat": 4,
  "nbformat_minor": 0,
  "metadata": {
    "colab": {
      "name": "TigerGraph_AMLSim_Demo",
      "provenance": [],
      "collapsed_sections": []
    },
    "kernelspec": {
      "name": "python3",
      "display_name": "Python 3"
    }
  },
  "cells": [
    {
      "cell_type": "markdown",
      "metadata": {
        "id": "jpIfXmbjCc9G"
      },
      "source": [
        "# TigerGraph AMLSim Demo\n",
        "\n",
        "To Get Started you will need an instance of TigerGraph running. The fastest way to get a box running is using **https://tgcloud.io**. \n",
        "\n",
        "If it's your first time using the cloud portal checkout [**Getting Started with TigerGraph 3.0**](https://www.tigergraph.com/blog/getting-started-with-tigergraph-3-0/)\n",
        "\n",
        ">**Note:** This notebook will work if you have an existing solution, by creating a new graph, but it's suggested that you have a blank instance. At the bottom of the notebook you will see a commented out cell that will allow you to clear your existing solution. Use that command wisely as it deletes everything on your existing solution. \n",
        "\n",
        "## About AMLSim\n",
        "The AMLSim project is intended to provide a multi-agent based simulator that generates synthetic banking transaction data together with a set of known money laundering patterns - mainly for the purpose of testing machine learning models and graph algorithms.\n",
        "\n",
        "**AMLSim Official GitHub**\n",
        "https://github.com/IBM/AMLSim\n",
        "\n",
        "**AMLSim WIKI** https://github.com/IBM/AMLSim/wiki\n",
        "\n",
        "**AMLSim Data** https://github.com/IBM/AMLSim/wiki/Download-Example-Data-Set"
      ]
    },
    {
      "cell_type": "markdown",
      "metadata": {
        "id": "IemCki2KDDH4"
      },
      "source": [
        "## Setup TigerGraph Server\n",
        "\n",
        "> Note: If this is your first time using TigerGraph Cloud, checkout the this [blog](https://www.tigergraph.com/blog/getting-started-with-tigergraph-3-0/) to learn the basics of deploying an instance on tgcloud.io\n",
        "\n",
        "For this workshop you can choose `Blank v3` as the starter kit.\n",
        "\n",
        "![MR](https://miro.medium.com/max/1400/1*8ZGz7MccIpFYSaqO1bszyQ.png)\n",
        "\n",
        "Once you have the box provisioned with the Starter Kit mentioned above open GraphStudio.\n",
        "\n",
        "![GS](https://miro.medium.com/max/1400/1*D9Ya_eBWstx-xv_i-9gbQw.png)\n",
        "\n",
        "On the top right you will see `Global View`. Click on that and choose `MyGraph`. Once you select `MyGraph`, Global View will go away and it will look simliar to this.\n",
        "\n",
        "![GS2](https://miro.medium.com/max/1400/1*d6hPhuJE7qttBhCk37cTWA.png)\n",
        "\n",
        "Perfect. Now you Graph is UP. Let's move on. "
      ]
    },
    {
      "cell_type": "markdown",
      "metadata": {
        "id": "1Thn3Tp3vfrI"
      },
      "source": [
        "### Grab and Import Packages"
      ]
    },
    {
      "cell_type": "code",
      "metadata": {
        "id": "gLfGLjW26zVl"
      },
      "source": [
        "# FETCH PACKAGES\n",
        "!pip install pyTigerGraphBeta\n",
        "import pyTigerGraphBeta as tg\n",
        "import pandas as pd"
      ],
      "execution_count": null,
      "outputs": []
    },
    {
      "cell_type": "markdown",
      "metadata": {
        "id": "HqiLZEVnvnD7"
      },
      "source": [
        "### Setup Connection to TigerGraph"
      ]
    },
    {
      "cell_type": "code",
      "metadata": {
        "id": "67vQSggz7KdE"
      },
      "source": [
        "# SETUP TIGERGRAPH CONNECTION\n",
        "conn = tg.TigerGraphConnection(host=\"https://aml-paysim.i.tgcloud.io\", username=\"tigergraph\", password=\"tigergraph\")"
      ],
      "execution_count": 96,
      "outputs": []
    },
    {
      "cell_type": "markdown",
      "metadata": {
        "id": "S18YKxo8vX_5"
      },
      "source": [
        "### Fetch Data From GitHub Repo"
      ]
    },
    {
      "cell_type": "code",
      "metadata": {
        "id": "0HENq8d47TNG"
      },
      "source": [
        "# GRAB DATA FILES \n",
        "!git clone https://github.com/TigerGraph-OSS/AMLSim_Python_Lab"
      ],
      "execution_count": null,
      "outputs": []
    },
    {
      "cell_type": "markdown",
      "metadata": {
        "id": "OJN5i_4RCrSh"
      },
      "source": [
        "### Loading DataFrames\n"
      ]
    },
    {
      "cell_type": "code",
      "metadata": {
        "id": "NKgn5JP_3p_s"
      },
      "source": [
        "accounts = pd.read_csv(\"/content/AMLSim_Python_Lab/accounts.csv\", sep=\",\")\n",
        "alerts = pd.read_csv(\"/content/AMLSim_Python_Lab/alerts.csv\", sep=\",\")\n",
        "transactions = pd.read_csv(\"/content/AMLSim_Python_Lab/transactions.csv\", sep=\",\")"
      ],
      "execution_count": 5,
      "outputs": []
    },
    {
      "cell_type": "markdown",
      "metadata": {
        "id": "ByiP0h_9Dd3P"
      },
      "source": [
        "## Create Graph"
      ]
    },
    {
      "cell_type": "markdown",
      "metadata": {
        "id": "S-7uvTeDvQ1F"
      },
      "source": [
        "### Create Global Vertices and Edges"
      ]
    },
    {
      "cell_type": "code",
      "metadata": {
        "id": "EcSSDtPe8ekX"
      },
      "source": [
        "# DEFINE / CREATE ALL EDGES AND VERTICES \n",
        "print(conn.gsql('''\n",
        "CREATE VERTEX Country (PRIMARY_ID id STRING) WITH primary_id_as_attribute=\"true\"\n",
        "CREATE VERTEX Customer (PRIMARY_ID id STRING) WITH primary_id_as_attribute=\"true\"\n",
        "CREATE VERTEX Account (PRIMARY_ID id STRING, init_balance DOUBLE, account_type STRING, tx_behavior INT, pagerank FLOAT, label INT, current_balance DOUBLE, min_send_tx DOUBLE, min_recieve_tx DOUBLE, max_send_tx DOUBLE, max_recieve_tx DOUBLE, avg_send_tx DOUBLE, avg_recieve_tx DOUBLE, cnt_recieve_tx INT, cnt_send_tx INT) WITH primary_id_as_attribute=\"true\"\n",
        "CREATE VERTEX Transaction (PRIMARY_ID id STRING, tx_behavior_id INT, amount DOUBLE, is_fraud BOOL) WITH primary_id_as_attribute=\"true\"\n",
        "CREATE VERTEX Alert (PRIMARY_ID id STRING, alert_type STRING, ts INT) WITH primary_id_as_attribute=\"true\"\n",
        "CREATE UNDIRECTED EDGE Based_In (From Customer, To Country)\n",
        "CREATE UNDIRECTED EDGE Customer_Account (From Customer, To Account)\n",
        "CREATE UNDIRECTED EDGE Transaction_Flagged (From Transaction, To Alert)\n",
        "CREATE DIRECTED EDGE Send_To (From Account, To Account) WITH REVERSE_EDGE=\"reverse_Send_To\"\n",
        "CREATE DIRECTED EDGE Send_Transaction (From Account, To Transaction, ts INT, tx_type STRING) WITH REVERSE_EDGE=\"reverse_Send_Transaction\"\n",
        "CREATE DIRECTED EDGE Recieve_Transaction (From Transaction, To Account, ts INT, tx_type STRING) WITH REVERSE_EDGE=\"reverse_Recieve_Transaction\"\n",
        "''', options=[]))\n"
      ],
      "execution_count": null,
      "outputs": []
    },
    {
      "cell_type": "markdown",
      "metadata": {
        "id": "5mIhQC-zD0ro"
      },
      "source": [
        "### Create AMLSim Graph"
      ]
    },
    {
      "cell_type": "code",
      "metadata": {
        "id": "f6SUNbWO9doi",
        "colab": {
          "base_uri": "https://localhost:8080/"
        },
        "outputId": "5e980d50-cb0b-49ed-c021-8542040928e6"
      },
      "source": [
        "# CREATE GRAPH \"AMLSim\"\n",
        "print(conn.gsql('''CREATE GRAPH AMLSim(Country, Customer, Account, Transaction, Alert, Based_In, Customer_Account, Transaction_Flagged, Send_To, Send_Transaction, reverse_Send_Transaction, Recieve_Transaction, reverse_Recieve_Transaction)''', options=[]))"
      ],
      "execution_count": 77,
      "outputs": [
        {
          "output_type": "stream",
          "text": [
            "['Stopping GPE GSE RESTPP', 'Successfully stopped GPE GSE RESTPP in 0.006 seconds', 'Starting GPE GSE RESTPP', 'Successfully started GPE GSE RESTPP in 0.097 seconds', 'The graph AMLSim is created.']\n"
          ],
          "name": "stdout"
        }
      ]
    },
    {
      "cell_type": "code",
      "metadata": {
        "id": "Q3DJFG6GKetZ"
      },
      "source": [
        "# TEST TO SEE IF GRAPH SCHEMA BUILT\n",
        "print(conn.gsql('''LS''', options=[]))"
      ],
      "execution_count": null,
      "outputs": []
    },
    {
      "cell_type": "markdown",
      "metadata": {
        "id": "NmRHewPEv-Oi"
      },
      "source": [
        "### Set New Graph Parameters"
      ]
    },
    {
      "cell_type": "code",
      "metadata": {
        "id": "VDI-VBoRE2c-"
      },
      "source": [
        "# SET NEW GRAPH PARAMS\n",
        "# Instructions on generating a secret https://towardsdatascience.com/generating-a-secret-in-tigergraph-e5139d52dff6\n",
        "conn.graphname = \"AMLSim\"\n",
        "conn.apiToken = conn.getToken(\"437b3u5grimgkv9qhk7vu819me6hq3ge\")\n",
        "# conn.apiToken = conn.getToken(conn.createSecret())"
      ],
      "execution_count": 98,
      "outputs": []
    },
    {
      "cell_type": "code",
      "metadata": {
        "id": "nMUorSW_4FZg"
      },
      "source": [
        "# ACCOUNTS DATAFRAME\n",
        "accounts['ACCOUNT_ID'] = accounts['ACCOUNT_ID'].astype(str)\n",
        "accounts.head()"
      ],
      "execution_count": null,
      "outputs": []
    },
    {
      "cell_type": "code",
      "metadata": {
        "id": "rZXD37S74NAn"
      },
      "source": [
        "# ALERTS DATAFRAME\n",
        "alerts['ALERT_ID'] = alerts['ALERT_ID'].astype(str)\n",
        "alerts['SENDER_ACCOUNT_ID'] = alerts['SENDER_ACCOUNT_ID'].astype(str)\n",
        "alerts['RECEIVER_ACCOUNT_ID'] = alerts['RECEIVER_ACCOUNT_ID'].astype(str)\n",
        "alerts.head()"
      ],
      "execution_count": null,
      "outputs": []
    },
    {
      "cell_type": "markdown",
      "metadata": {
        "id": "jslm5hHlEscU"
      },
      "source": [
        "## Load Data"
      ]
    },
    {
      "cell_type": "code",
      "metadata": {
        "id": "LSnfPgwz_HM0"
      },
      "source": [
        "# TRANSACTION DATAFRAME\n",
        "transactions['TX_ID'] = transactions['TX_ID'].astype(str)\n",
        "transactions['SENDER_ACCOUNT_ID'] = transactions['SENDER_ACCOUNT_ID'].astype(str)\n",
        "transactions['RECEIVER_ACCOUNT_ID'] = transactions['RECEIVER_ACCOUNT_ID'].astype(str)\n",
        "transactions.head()"
      ],
      "execution_count": null,
      "outputs": []
    },
    {
      "cell_type": "code",
      "metadata": {
        "id": "JqNxyziOoaQo"
      },
      "source": [
        "# UPSERT VERTEX \"Customer\"\n",
        "v_customer = conn.upsertVertexDataFrame(accounts, \"Customer\", \"CUSTOMER_ID\", attributes={\"id\": \"CUSTOMER_ID\"})\n",
        "print(str(v_customer) + \" Customer VERTICES Upserted\")\n",
        "\n",
        "# UPSERT VERTEX \"Account\"\n",
        "v_account = conn.upsertVertexDataFrame(accounts, \"Account\", \"ACCOUNT_ID\", attributes={\"id\": \"ACCOUNT_ID\", \"init_balance\": \"INIT_BALANCE\", \"account_type\": \"ACCOUNT_TYPE\", \"tx_behavior\": \"TX_BEHAVIOR_ID\"})\n",
        "print(str(v_account) + \" Account VERTICES Upserted\")\n",
        "\n",
        "# UPSERT VERTEX \"Transaction\"\n",
        "v_transaction = conn.upsertVertexDataFrame(transactions, \"Transaction\", \"TX_ID\", attributes={\"id\": \"TX_ID\", \"amount\": \"TX_AMOUNT\", \"is_fraud\": \"IS_FRAUD\"})\n",
        "print(str(v_transaction) + \" Transaction VERTICES Upserted\")\n",
        "\n",
        "# UPSERT VERTEX \"Alert\"\n",
        "v_alert = conn.upsertVertexDataFrame(alerts, \"Alert\", \"ALERT_ID\", attributes={\"id\": \"ALERT_ID\", \"alert_type\": \"ALERT_TYPE\", \"ts\": \"TIMESTAMP\"})\n",
        "print(str(v_alert) + \" Alert VERTICES Upserted\")\n",
        "\n",
        "# UPSERT EDGE \"Send_Transaction\"\n",
        "e_send_transaction = conn.upsertEdgeDataFrame(transactions, \"Account\", \"Send_Transaction\", \"Transaction\", from_id=\"SENDER_ACCOUNT_ID\", to_id=\"TX_ID\", attributes={\"ts\": \"TIMESTAMP\", \"tx_type\": \"TX_TYPE\"})\n",
        "print(str(e_send_transaction) + \" Send_Transaction EDGES Upserted\")\n",
        "\n",
        "# UPSERT EDGE \"Send_Transaction\"\n",
        "e_recieve_transaction = conn.upsertEdgeDataFrame(transactions, \"Transaction\", \"Recieve_Transaction\", \"Account\", from_id=\"TX_ID\", to_id=\"RECEIVER_ACCOUNT_ID\", attributes={\"ts\": \"TIMESTAMP\", \"tx_type\": \"TX_TYPE\"})\n",
        "print(str(e_recieve_transaction) + \" Recieve_Transaction EDGES Upserted\")\n",
        "\n",
        "# UPSERT EDGE \"Send_To\"\n",
        "e_send_to = conn.upsertEdgeDataFrame(transactions, \"Account\", \"Send_To\", \"Account\", from_id=\"SENDER_ACCOUNT_ID\", to_id=\"RECEIVER_ACCOUNT_ID\", attributes={})\n",
        "print(str(e_send_to) + \" Send_To EDGES Upserted\")\n",
        "\n",
        "# UPSERT EDGE \"Transaction_Flagged\"\n",
        "e_transaction_flagged = conn.upsertEdgeDataFrame(alerts, \"Transaction\", \"Transaction_Flagged\", \"Alert\", from_id=\"TX_ID\", to_id=\"ALERT_ID\", attributes={})\n",
        "print(str(e_transaction_flagged) + \" Transaction_Flagged EDGES Upserted\")\n",
        "\n",
        "# UPSERT EDGE \"Customer_Account\"\n",
        "e_customer_account = conn.upsertEdgeDataFrame(accounts, \"Customer\", \"Customer_Account\", \"Account\", from_id=\"CUSTOMER_ID\", to_id=\"ACCOUNT_ID\", attributes={})\n",
        "print(str(e_customer_account) + \" Customer_Account EDGES Upserted\")\n",
        "\n",
        "# UPSERT EDGE \"Based_In\"\n",
        "e_based_in = conn.upsertEdgeDataFrame(accounts, \"Customer\", \"Based_In\", \"Country\", from_id=\"CUSTOMER_ID\", to_id=\"COUNTRY\", attributes={})\n",
        "print(str(e_based_in) + \" Based_In EDGES Upserted\")\n",
        "\n",
        "# PRINT OUT STATS\n",
        "print(\"=====TOTAL_UPSERTS=====\")\n",
        "print(str(v_customer+v_account+v_transaction+v_alert) + \" TOTAL VERTICES\")\n",
        "print(str(e_send_transaction+e_recieve_transaction+e_send_to+e_transaction_flagged+e_customer_account+e_based_in) + \" TOTAL EDGES\")\n"
      ],
      "execution_count": null,
      "outputs": []
    },
    {
      "cell_type": "markdown",
      "metadata": {
        "id": "f318RDSnvwgn"
      },
      "source": [
        "## Features Generation for Machine Learning"
      ]
    },
    {
      "cell_type": "code",
      "metadata": {
        "id": "bvCT5No5Rz57"
      },
      "source": [
        "# CREATE QUERY FOR GENERATING FEATURES ABOUT ACCOUNT ACTIVITY\n",
        "print(conn.gsql('''\n",
        "CREATE QUERY accountActivity() FOR GRAPH AMLSim { \n",
        "  \n",
        "  SumAccum<DOUBLE> @s_sumAmt, @r_sumAmt;\n",
        "  SumAccum<DOUBLE> @s_txCnt, @r_txCnt;\n",
        "  MinAccum<DOUBLE> @s_minAmt, @r_minAmt;\n",
        "  MaxAccum<DOUBLE> @s_maxAmt, @r_maxAmt;\n",
        "  AvgAccum @s_avgAmt, @r_avgAmt;\n",
        "\n",
        "  \n",
        "  \n",
        "  Seed = {Account.*};\n",
        "  \n",
        "  acctSend = SELECT tgt FROM Seed:s -(Send_Transaction:e)-> Transaction:tgt\n",
        "             ACCUM s.@s_sumAmt += tgt.amount, \n",
        "                   s.@s_txCnt += 1,\n",
        "                   s.@s_minAmt += tgt.amount, \n",
        "                   s.@s_maxAmt += tgt.amount,\n",
        "                   s.@s_avgAmt += tgt.amount\n",
        "            POST-ACCUM\n",
        "                s.current_balance = s.@s_sumAmt - s.init_balance,\n",
        "                s.min_send_tx = s.@s_minAmt,\n",
        "                s.max_send_tx = s.@s_maxAmt,\n",
        "                s.avg_send_tx = s.@s_avgAmt,\n",
        "                s.cnt_send_tx = s.@s_txCnt;\n",
        "                \n",
        "\n",
        "  \n",
        "  acctRecieve = SELECT tgt FROM Seed:s -(reverse_Recieve_Transaction:e)-> Transaction:tgt\n",
        "                ACCUM s.@r_sumAmt += tgt.amount, \n",
        "                      s.@r_txCnt += 1,\n",
        "                      s.@r_minAmt += tgt.amount, \n",
        "                      s.@r_maxAmt += tgt.amount,\n",
        "                      s.@r_avgAmt += tgt.amount\n",
        "                      \n",
        "                POST-ACCUM\n",
        "                  s.current_balance = s.@r_sumAmt + s.init_balance,\n",
        "                  s.min_recieve_tx = s.@r_minAmt,\n",
        "                  s.max_recieve_tx = s.@r_maxAmt,\n",
        "                  s.avg_recieve_tx = s.@r_avgAmt,\n",
        "                  s.cnt_recieve_tx = s.@r_txCnt;\n",
        "              \n",
        "  PRINT \"Features Have Been Calculated\";\n",
        "\n",
        "}\n",
        "''', options=[]))"
      ],
      "execution_count": null,
      "outputs": []
    },
    {
      "cell_type": "code",
      "metadata": {
        "id": "PejzMO7o-V1M"
      },
      "source": [
        "# INSTALL QUERY FOR GENERATING FEATURES ABOUT ACCOUNT ACTIVITY\n",
        "print(conn.gsql('''INSTALL QUERY accountActivity''', options=[]))"
      ],
      "execution_count": null,
      "outputs": []
    },
    {
      "cell_type": "markdown",
      "metadata": {
        "id": "v697v8VQYJb1"
      },
      "source": [
        "## Queries to Install for Feature Generation"
      ]
    },
    {
      "cell_type": "code",
      "metadata": {
        "id": "D5rB9rRKgaOn"
      },
      "source": [
        "# CREATE QUERY FOR GENERATING FEATURES USING LABEL PROP\n",
        "print(conn.gsql('''\n",
        "CREATE QUERY label_prop (SET<STRING> v_type, SET<STRING> e_type, INT max_iter, INT output_limit, BOOL print_accum = TRUE, STRING file_path = \"\", STRING attr = \"\") FOR GRAPH AMLSim{\n",
        "# Partition the vertices into communities, according to the Label Propagation method.\n",
        "# Indicate community membership by assigning each vertex a community ID.\n",
        "\n",
        "        OrAccum @@changed = true;\n",
        "        MapAccum<INT, INT> @map;     # <communityId, numNeighbors>\n",
        "        MapAccum<INT, INT> @@commSizes;   # <communityId, members>\n",
        "        SumAccum<INT> @label, @num;  \n",
        "        FILE f (file_path);\n",
        "        Start = {v_type};\n",
        "\n",
        "# Assign unique labels to each vertex\n",
        "        Start = SELECT s FROM Start:s ACCUM s.@label = getvid(s);\n",
        "\n",
        "# Propagate labels to neighbors until labels converge or the max iterations is reached\n",
        "        WHILE @@changed == true LIMIT max_iter DO\n",
        "                @@changed = false;\n",
        "                Start = SELECT s \n",
        "                        FROM Start:s -(e_type:e)-> :t\n",
        "                        ACCUM t.@map += (s.@label -> 1)  # count the occurrences of neighbor's labels\n",
        "                        POST-ACCUM\n",
        "                                INT maxV = 0,\n",
        "                                INT label = 0,\n",
        "                                # Iterate over the map to get the neighbor label that occurs most often\n",
        "                                FOREACH (k,v) IN t.@map DO\n",
        "                                        CASE WHEN v > maxV THEN\n",
        "                                                maxV = v,\n",
        "                                                label = k\n",
        "                                        END\n",
        "                                END,\n",
        "                                # When the neighbor search finds a label AND it is a new label\n",
        "                                # AND the label's count has increased, update the label.\n",
        "                                CASE WHEN label != 0 AND t.@label != label AND maxV > t.@num THEN\n",
        "                                        @@changed += true,\n",
        "                                        t.@label = label,\n",
        "                                        t.@num = maxV\n",
        "                                END,\n",
        "                                t.@map.clear();\n",
        "        END;\n",
        "\n",
        "        Start = {v_type};\n",
        "        Start =  SELECT s FROM Start:s\n",
        "                  POST-ACCUM \n",
        "                        IF attr != \"\" THEN s.setAttr(attr, s.@label) END,\n",
        "                        IF file_path != \"\" THEN f.println(s, s.@label) END,\n",
        "                        IF print_accum THEN @@commSizes += (s.@label -> 1) END\n",
        "                  LIMIT output_limit;\n",
        "\n",
        "        IF print_accum THEN \n",
        "           PRINT @@commSizes;\n",
        "           PRINT Start[Start.@label];\n",
        "        END;\n",
        "}\n",
        "''', options=[]))"
      ],
      "execution_count": null,
      "outputs": []
    },
    {
      "cell_type": "code",
      "metadata": {
        "id": "znNF35B1-erQ"
      },
      "source": [
        "# INSTALL QUERY FOR GENERATING FEATURES USING LABEL PROP\n",
        "print(conn.gsql('''INSTALL QUERY label_prop''', options=[]))"
      ],
      "execution_count": null,
      "outputs": []
    },
    {
      "cell_type": "code",
      "metadata": {
        "id": "Tk3fW3Ipgaa9"
      },
      "source": [
        "# CREATE QUERY FOR GENERATING FEATURES USING PAGERANK\n",
        "print(conn.gsql('''\n",
        "CREATE QUERY pageRank (STRING v_type, STRING e_type,\n",
        " FLOAT max_change=0.001, INT max_iter=25, FLOAT damping=0.85, INT top_k = 100,\n",
        " BOOL print_accum = TRUE, STRING result_attr =  \"\", STRING file_path = \"\",\n",
        " BOOL display_edges = FALSE) FOR GRAPH AMLSim{\n",
        "/*\n",
        " Compute the pageRank score for each vertex in the GRAPH\n",
        " In each iteration, compute a score for each vertex:\n",
        "     score = (1-damping) + damping*sum(received scores FROM its neighbors).\n",
        " The pageRank algorithm stops when either of the following is true:\n",
        " a) it reaches max_iter iterations;\n",
        " b) the max score change for any vertex compared to the last iteration <= max_change.\n",
        " v_type: vertex types to traverse          print_accum: print JSON output\n",
        " e_type: edge types to traverse            result_attr: INT attr to store results to\n",
        " max_iter; max #iterations                 file_path: file to write CSV output to\n",
        " top_k: #top scores to output              display_edges: output edges for visualization\n",
        " max_change: max allowed change between iterations to achieve convergence\n",
        " damping: importance of traversal vs. random teleport\n",
        "\n",
        " This query supports only taking in a single edge for the time being (8/13/2020).\n",
        "*/\n",
        "\tTYPEDEF TUPLE<VERTEX Vertex_ID, FLOAT score> Vertex_Score;\n",
        "\tHeapAccum<Vertex_Score>(top_k, score DESC) @@topScores;\n",
        "\tMaxAccum<FLOAT> @@max_diff = 9999;    # max score change in an iteration\n",
        "\tSumAccum<FLOAT> @recvd_score = 0; # sum of scores each vertex receives FROM neighbors\n",
        "\tSumAccum<FLOAT> @score = 1;           # initial score for every vertex is 1.\n",
        "\tSetAccum<EDGE> @@edgeSet;             # list of all edges, if display is needed\n",
        "\tFILE f (file_path);\n",
        "\n",
        "# PageRank iterations\t\n",
        "\tStart = {v_type};                     # Start with all vertices of specified type(s)\n",
        "\tWHILE @@max_diff > max_change LIMIT max_iter DO\n",
        "\t\t\t@@max_diff = 0;\n",
        "\t\t\tV = SELECT s\n",
        "\t\t\t\tFROM Start:s -(e_type:e)-> v_type:t\n",
        "\t\t\t\tACCUM t.@recvd_score += s.@score/(s.outdegree(e_type)) \n",
        "\t\t\t\tPOST-ACCUM s.@score = (1.0-damping) + damping * s.@recvd_score,\n",
        "\t\t\t\t\t\t   s.@recvd_score = 0,\n",
        "\t\t\t\t\t\t   @@max_diff += abs(s.@score - s.@score');\n",
        "\tEND; # END WHILE loop\n",
        "\n",
        "# Output\n",
        "\tIF file_path != \"\" THEN\n",
        "\t  f.println(\"Vertex_ID\", \"PageRank\");\n",
        "\tEND;\n",
        "\n",
        "\tV = SELECT s FROM Start:s\n",
        "\t\tPOST-ACCUM \n",
        "\t\t\tIF result_attr != \"\" THEN s.setAttr(result_attr, s.@score) END,\n",
        "\t\t\tIF file_path != \"\" THEN f.println(s, s.@score) END,\n",
        "\t\t\tIF print_accum THEN @@topScores += Vertex_Score(s, s.@score) END;\n",
        "\n",
        "\tIF print_accum THEN\n",
        "\t\tPRINT @@topScores;\n",
        "\t\tIF display_edges THEN\n",
        "\t\t\tPRINT Start[Start.@score];\n",
        "\t\t\tStart = SELECT s\n",
        "\t\t\t\t\tFROM Start:s -(e_type:e)-> v_type:t\n",
        "\t\t\t\t\tACCUM @@edgeSet += e;\n",
        "\t\t   PRINT @@edgeSet;\n",
        "\t\tEND;\n",
        "\tEND;\n",
        "}\n",
        "''', options=[]))"
      ],
      "execution_count": null,
      "outputs": []
    },
    {
      "cell_type": "code",
      "metadata": {
        "id": "Cpjzku0g-kJc"
      },
      "source": [
        "# INSTALL QUERY FOR GENERATING FEATURES USING PAGERANK\n",
        "print(conn.gsql('''INSTALL QUERY pageRank''', options=[]))"
      ],
      "execution_count": null,
      "outputs": []
    },
    {
      "cell_type": "markdown",
      "metadata": {
        "id": "pO7AV8uAQwCj"
      },
      "source": [
        "\n",
        "## Queries for GraphStudio\n",
        "Select Account Query\n",
        "```\n",
        "CREATE QUERY selectAccount(STRING acct) FOR GRAPH AMLSim { \n",
        "  seed = {Account.*};\n",
        "  S1 = SELECT s FROM seed:s WHERE s.id == acct; \n",
        "  PRINT S1; \n",
        "}\n",
        "```\n",
        "Select Account Query\n",
        "```\n",
        "CREATE QUERY selectTopPageRank() FOR GRAPH AMLSim { \n",
        "  seed = {Account.*};\n",
        "  S1 = SELECT s FROM seed:s ORDER BY s.pagerank DESC LIMIT 10;\n",
        "  PRINT S1; \n",
        "}\n",
        "```\n",
        "Select Account Transactions\n",
        "```\n",
        "CREATE QUERY selectAccountTx(STRING acct) FOR GRAPH AMLSim { \n",
        "  ListAccum<EDGE> @@txSend, @@txRecieve;\n",
        "  seed = {Account.*};\n",
        "  \n",
        "  SendTx = SELECT tgt FROM seed:s -(Send_Transaction:e)-> Transaction:tgt\n",
        "           WHERE s.id == acct\n",
        "           ACCUM @@txSend +=  e;\n",
        "  \n",
        "  RecieveTx = SELECT tgt FROM seed:s -(reverse_Recieve_Transaction:e)-> Transaction:tgt\n",
        "              WHERE s.id == acct\n",
        "              ACCUM @@txRecieve += e;\n",
        "  \n",
        "  PRINT @@txSend, @@txRecieve; \n",
        "}\n",
        "```"
      ]
    },
    {
      "cell_type": "code",
      "metadata": {
        "id": "WtGTAFbGCAX0"
      },
      "source": [
        "# FETCH DATA FOR ACCOUNT 9913 TO CHECK DATA POPLULATION\n",
        "print(conn.gsql('''\n",
        "INTERPRET QUERY () FOR GRAPH AMLSim { \n",
        "  seed = {Account.*};\n",
        "  S1 = SELECT s FROM seed:s WHERE s.id == \"9913\"; \n",
        "  PRINT S1; \n",
        "}\n",
        "''', options=[]))"
      ],
      "execution_count": null,
      "outputs": []
    },
    {
      "cell_type": "markdown",
      "metadata": {
        "id": "xENDrWuNYd0L"
      },
      "source": [
        "\n",
        "## Queries for GraphStudio\n",
        "Select Account Query\n",
        "```\n",
        "CREATE QUERY selectAccount(STRING acct) FOR GRAPH AMLSim { \n",
        "  seed = {Account.*};\n",
        "  S1 = SELECT s FROM seed:s WHERE s.id == acct; \n",
        "  PRINT S1; \n",
        "}\n",
        "```\n",
        "Select Account Query\n",
        "```\n",
        "CREATE QUERY selectTopPageRank() FOR GRAPH AMLSim { \n",
        "  seed = {Account.*};\n",
        "  S1 = SELECT s FROM seed:s ORDER BY s.pagerank DESC LIMIT 10;\n",
        "  PRINT S1; \n",
        "}\n",
        "```\n",
        "Select Account Transactions\n",
        "```\n",
        "CREATE QUERY selectAccountTx(STRING acct) FOR GRAPH AMLSim { \n",
        "  ListAccum<EDGE> @@txSend, @@txRecieve;\n",
        "  seed = {Account.*};\n",
        "  \n",
        "  SendTx = SELECT tgt FROM seed:s -(Send_Transaction:e)-> Transaction:tgt\n",
        "           WHERE s.id == acct\n",
        "           ACCUM @@txSend +=  e;\n",
        "  \n",
        "  RecieveTx = SELECT tgt FROM seed:s -(reverse_Recieve_Transaction:e)-> Transaction:tgt\n",
        "              WHERE s.id == acct\n",
        "              ACCUM @@txRecieve += e;\n",
        "  \n",
        "  PRINT @@txSend, @@txRecieve; \n",
        "}\n",
        "```"
      ]
    },
    {
      "cell_type": "code",
      "metadata": {
        "id": "YV8OtDt4YaKE"
      },
      "source": [
        "# CREATE/INSTALL QUERY FOR ACCOUNT INFO\n",
        "print(conn.gsql('''\n",
        "CREATE QUERY selectAccount(STRING acct) FOR GRAPH AMLSim { \n",
        "  seed = {Account.*};\n",
        "  S1 = SELECT s FROM seed:s WHERE s.id == acct; \n",
        "  PRINT S1; \n",
        "}\n",
        "INSTALL QUERY selectAccount\n",
        "''', options=[]))"
      ],
      "execution_count": null,
      "outputs": []
    },
    {
      "cell_type": "code",
      "metadata": {
        "id": "isKxU2oNa3Uy"
      },
      "source": [
        "# RUN INSTALLED QUERY selectAccount\n",
        "print(conn.runInstalledQuery(\"selectAccount\", {\"acct\": \"9913\"}))"
      ],
      "execution_count": null,
      "outputs": []
    },
    {
      "cell_type": "code",
      "metadata": {
        "id": "BgDuk2rdZ7nD"
      },
      "source": [
        "# CREATE/INSTALL QUERY FOR ACCOUNTS TOP PAGERANK SCORES\n",
        "print(conn.gsql('''\n",
        "CREATE QUERY selectTopPageRank() FOR GRAPH AMLSim { \n",
        "  seed = {Account.*};\n",
        "  S1 = SELECT s FROM seed:s ORDER BY s.pagerank DESC LIMIT 10;\n",
        "  PRINT S1; \n",
        "}\n",
        "INSTALL QUERY selectTopPageRank\n",
        "''', options=[]))"
      ],
      "execution_count": null,
      "outputs": []
    },
    {
      "cell_type": "code",
      "metadata": {
        "id": "6Xz0JvBabis4"
      },
      "source": [
        "# RUN INSTALLED QUERY selectAccount\n",
        "print(conn.runInstalledQuery(\"selectTopPageRank\", {}))"
      ],
      "execution_count": null,
      "outputs": []
    },
    {
      "cell_type": "code",
      "metadata": {
        "id": "9uswl2dXaQwy"
      },
      "source": [
        "# CREATE/INSTALL QUERY FOR ACCOUNTS TRANSACTIONS\n",
        "print(conn.gsql('''\n",
        "CREATE QUERY selectAccountTx(STRING acct) FOR GRAPH AMLSim { \n",
        "  ListAccum<EDGE> @@txSend, @@txRecieve;\n",
        "  seed = {Account.*};\n",
        "  \n",
        "  SendTx = SELECT tgt FROM seed:s -(Send_Transaction:e)-> Transaction:tgt\n",
        "           WHERE s.id == acct\n",
        "           ACCUM @@txSend +=  e;\n",
        "  \n",
        "  RecieveTx = SELECT tgt FROM seed:s -(reverse_Recieve_Transaction:e)-> Transaction:tgt\n",
        "              WHERE s.id == acct\n",
        "              ACCUM @@txRecieve += e;\n",
        "  \n",
        "  PRINT @@txSend, @@txRecieve; \n",
        "}\n",
        "''', options=[]))"
      ],
      "execution_count": null,
      "outputs": []
    },
    {
      "cell_type": "code",
      "metadata": {
        "id": "3-tVZmaFbqSt"
      },
      "source": [
        "# RUN INSTALLED QUERY selectAccountTx\n",
        "print(conn.runInstalledQuery(\"selectAccountTx\", {\"acct\": \"9913\"}))"
      ],
      "execution_count": null,
      "outputs": []
    },
    {
      "cell_type": "markdown",
      "metadata": {
        "id": "N626ucFZZKd-"
      },
      "source": [
        "# WARNING: DROP ALL - Will Delete everything in your graph!\n",
        "Use this if you would like to start the notebook lab from the beginning."
      ]
    },
    {
      "cell_type": "code",
      "metadata": {
        "id": "iTqRBWF_Y-R_"
      },
      "source": [
        "#print(conn.gsql('''DROP ALL''', options=[]))"
      ],
      "execution_count": null,
      "outputs": []
    }
  ]
}