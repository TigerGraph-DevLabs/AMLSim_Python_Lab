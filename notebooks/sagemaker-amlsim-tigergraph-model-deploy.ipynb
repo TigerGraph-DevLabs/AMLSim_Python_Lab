{
 "cells": [
  {
   "cell_type": "code",
   "execution_count": 3,
   "id": "toxic-twist",
   "metadata": {},
   "outputs": [
    {
     "name": "stdout",
     "output_type": "stream",
     "text": [
      "Requirement already satisfied: pyTigerGraphBeta in /home/ec2-user/anaconda3/envs/python3/lib/python3.6/site-packages (0.0.9.7)\n",
      "Requirement already satisfied: pyTigerDriver==1.0.6 in /home/ec2-user/anaconda3/envs/python3/lib/python3.6/site-packages (from pyTigerGraphBeta) (1.0.6)\n",
      "Requirement already satisfied: requests in /home/ec2-user/anaconda3/envs/python3/lib/python3.6/site-packages (from pyTigerGraphBeta) (2.25.1)\n",
      "Requirement already satisfied: validators in /home/ec2-user/anaconda3/envs/python3/lib/python3.6/site-packages (from pyTigerGraphBeta) (0.18.2)\n",
      "Requirement already satisfied: pandas in /home/ec2-user/anaconda3/envs/python3/lib/python3.6/site-packages (from pyTigerGraphBeta) (1.1.5)\n",
      "Requirement already satisfied: python-dateutil>=2.7.3 in /home/ec2-user/anaconda3/envs/python3/lib/python3.6/site-packages (from pandas->pyTigerGraphBeta) (2.8.1)\n",
      "Requirement already satisfied: pytz>=2017.2 in /home/ec2-user/anaconda3/envs/python3/lib/python3.6/site-packages (from pandas->pyTigerGraphBeta) (2021.1)\n",
      "Requirement already satisfied: numpy>=1.15.4 in /home/ec2-user/anaconda3/envs/python3/lib/python3.6/site-packages (from pandas->pyTigerGraphBeta) (1.19.5)\n",
      "Requirement already satisfied: six>=1.5 in /home/ec2-user/anaconda3/envs/python3/lib/python3.6/site-packages (from python-dateutil>=2.7.3->pandas->pyTigerGraphBeta) (1.15.0)\n",
      "Requirement already satisfied: idna<3,>=2.5 in /home/ec2-user/anaconda3/envs/python3/lib/python3.6/site-packages (from requests->pyTigerGraphBeta) (2.10)\n",
      "Requirement already satisfied: chardet<5,>=3.0.2 in /home/ec2-user/anaconda3/envs/python3/lib/python3.6/site-packages (from requests->pyTigerGraphBeta) (3.0.4)\n",
      "Requirement already satisfied: urllib3<1.27,>=1.21.1 in /home/ec2-user/anaconda3/envs/python3/lib/python3.6/site-packages (from requests->pyTigerGraphBeta) (1.26.3)\n",
      "Requirement already satisfied: certifi>=2017.4.17 in /home/ec2-user/anaconda3/envs/python3/lib/python3.6/site-packages (from requests->pyTigerGraphBeta) (2020.12.5)\n",
      "Requirement already satisfied: decorator>=3.4.0 in /home/ec2-user/anaconda3/envs/python3/lib/python3.6/site-packages (from validators->pyTigerGraphBeta) (4.4.2)\n",
      "Requirement already satisfied: flat-table in /home/ec2-user/anaconda3/envs/python3/lib/python3.6/site-packages (1.1.1)\n",
      "Requirement already satisfied: numpy in /home/ec2-user/anaconda3/envs/python3/lib/python3.6/site-packages (from flat-table) (1.19.5)\n",
      "Requirement already satisfied: pandas in /home/ec2-user/anaconda3/envs/python3/lib/python3.6/site-packages (from flat-table) (1.1.5)\n",
      "Requirement already satisfied: python-dateutil>=2.7.3 in /home/ec2-user/anaconda3/envs/python3/lib/python3.6/site-packages (from pandas->flat-table) (2.8.1)\n",
      "Requirement already satisfied: pytz>=2017.2 in /home/ec2-user/anaconda3/envs/python3/lib/python3.6/site-packages (from pandas->flat-table) (2021.1)\n",
      "Requirement already satisfied: six>=1.5 in /home/ec2-user/anaconda3/envs/python3/lib/python3.6/site-packages (from python-dateutil>=2.7.3->pandas->flat-table) (1.15.0)\n"
     ]
    }
   ],
   "source": [
    "!pip install pyTigerGraphBeta\n",
    "!pip install flat-table\n",
    "\n",
    "import pyTigerGraphBeta as tg\n",
    "import pandas as pd\n",
    "import flat_table"
   ]
  },
  {
   "cell_type": "code",
   "execution_count": 4,
   "id": "competent-angle",
   "metadata": {},
   "outputs": [],
   "source": [
    "conn = tg.TigerGraphConnection(host=\"https://aml-sim-sagemaker.i.tgcloud.io\", username=\"tigergraph\", password=\"tigergraph\", graphname = \"AMLSim\")\n",
    "conn.apiToken = conn.getToken(\"0dqle85rg436lg25qabtki0lqenunfvj\")"
   ]
  },
  {
   "cell_type": "code",
   "execution_count": 5,
   "id": "popular-imaging",
   "metadata": {},
   "outputs": [],
   "source": [
    "tx_hop = conn.runInstalledQuery(\"txMultiHopLimit\", {}, timeout=\"10000000000000000\", sizeLimit=\"1500000000\")"
   ]
  },
  {
   "cell_type": "code",
   "execution_count": 6,
   "id": "technological-evolution",
   "metadata": {},
   "outputs": [
    {
     "data": {
      "text/html": [
       "<div>\n",
       "<style scoped>\n",
       "    .dataframe tbody tr th:only-of-type {\n",
       "        vertical-align: middle;\n",
       "    }\n",
       "\n",
       "    .dataframe tbody tr th {\n",
       "        vertical-align: top;\n",
       "    }\n",
       "\n",
       "    .dataframe thead th {\n",
       "        text-align: right;\n",
       "    }\n",
       "</style>\n",
       "<table border=\"1\" class=\"dataframe\">\n",
       "  <thead>\n",
       "    <tr style=\"text-align: right;\">\n",
       "      <th></th>\n",
       "      <th>index</th>\n",
       "      <th>tx_amount</th>\n",
       "      <th>tx_fraud</th>\n",
       "      <th>s_pagerank</th>\n",
       "      <th>s_label</th>\n",
       "      <th>s_min_send_tx</th>\n",
       "      <th>s_min_receieve_tx</th>\n",
       "      <th>s_max_send_tx</th>\n",
       "      <th>s_max_recieve_tx</th>\n",
       "      <th>s_avg_send_tx</th>\n",
       "      <th>...</th>\n",
       "      <th>r_label</th>\n",
       "      <th>r_min_send_tx</th>\n",
       "      <th>r_min_receieve_tx</th>\n",
       "      <th>r_max_send_tx</th>\n",
       "      <th>r_max_recieve_tx</th>\n",
       "      <th>r_avg_send_tx</th>\n",
       "      <th>r_avg_recieve_tx</th>\n",
       "      <th>r_cnt_recieve_tx</th>\n",
       "      <th>r_cnt_send_tx</th>\n",
       "      <th>r_timestamp</th>\n",
       "    </tr>\n",
       "  </thead>\n",
       "  <tbody>\n",
       "    <tr>\n",
       "      <th>0</th>\n",
       "      <td>0</td>\n",
       "      <td>0.0</td>\n",
       "      <td>False</td>\n",
       "      <td>4.37799</td>\n",
       "      <td>58720367</td>\n",
       "      <td>0.0</td>\n",
       "      <td>3.73</td>\n",
       "      <td>16147263.00</td>\n",
       "      <td>21474836.47</td>\n",
       "      <td>3.424254e+06</td>\n",
       "      <td>...</td>\n",
       "      <td>17825845</td>\n",
       "      <td>564.67</td>\n",
       "      <td>0.0</td>\n",
       "      <td>564.67</td>\n",
       "      <td>2823050.75</td>\n",
       "      <td>5.646700e+02</td>\n",
       "      <td>67687.90131</td>\n",
       "      <td>61</td>\n",
       "      <td>177</td>\n",
       "      <td>0</td>\n",
       "    </tr>\n",
       "    <tr>\n",
       "      <th>1</th>\n",
       "      <td>1</td>\n",
       "      <td>0.0</td>\n",
       "      <td>False</td>\n",
       "      <td>0.94411</td>\n",
       "      <td>10485846</td>\n",
       "      <td>0.0</td>\n",
       "      <td>12.55</td>\n",
       "      <td>14930847.00</td>\n",
       "      <td>11150681.00</td>\n",
       "      <td>1.850771e+06</td>\n",
       "      <td>...</td>\n",
       "      <td>52428894</td>\n",
       "      <td>3461.37</td>\n",
       "      <td>0.0</td>\n",
       "      <td>21474836.47</td>\n",
       "      <td>8101879.00</td>\n",
       "      <td>4.897379e+06</td>\n",
       "      <td>65856.86086</td>\n",
       "      <td>187</td>\n",
       "      <td>30</td>\n",
       "      <td>0</td>\n",
       "    </tr>\n",
       "    <tr>\n",
       "      <th>2</th>\n",
       "      <td>2</td>\n",
       "      <td>0.0</td>\n",
       "      <td>False</td>\n",
       "      <td>0.62607</td>\n",
       "      <td>41943056</td>\n",
       "      <td>0.0</td>\n",
       "      <td>14.54</td>\n",
       "      <td>13832755.00</td>\n",
       "      <td>21474836.47</td>\n",
       "      <td>4.111439e+06</td>\n",
       "      <td>...</td>\n",
       "      <td>10485767</td>\n",
       "      <td>1200.91</td>\n",
       "      <td>0.0</td>\n",
       "      <td>21474836.47</td>\n",
       "      <td>13832713.00</td>\n",
       "      <td>5.057516e+06</td>\n",
       "      <td>59041.37387</td>\n",
       "      <td>297</td>\n",
       "      <td>16</td>\n",
       "      <td>0</td>\n",
       "    </tr>\n",
       "    <tr>\n",
       "      <th>3</th>\n",
       "      <td>3</td>\n",
       "      <td>0.0</td>\n",
       "      <td>False</td>\n",
       "      <td>0.58950</td>\n",
       "      <td>13631539</td>\n",
       "      <td>0.0</td>\n",
       "      <td>166.02</td>\n",
       "      <td>21474836.47</td>\n",
       "      <td>30921.03</td>\n",
       "      <td>3.618203e+06</td>\n",
       "      <td>...</td>\n",
       "      <td>59768883</td>\n",
       "      <td>118.33</td>\n",
       "      <td>0.0</td>\n",
       "      <td>118.33</td>\n",
       "      <td>21474836.47</td>\n",
       "      <td>1.183300e+02</td>\n",
       "      <td>140310.31232</td>\n",
       "      <td>521</td>\n",
       "      <td>720</td>\n",
       "      <td>0</td>\n",
       "    </tr>\n",
       "    <tr>\n",
       "      <th>4</th>\n",
       "      <td>4</td>\n",
       "      <td>0.0</td>\n",
       "      <td>False</td>\n",
       "      <td>0.57978</td>\n",
       "      <td>35</td>\n",
       "      <td>0.0</td>\n",
       "      <td>105.06</td>\n",
       "      <td>10701302.00</td>\n",
       "      <td>21474836.47</td>\n",
       "      <td>1.659735e+06</td>\n",
       "      <td>...</td>\n",
       "      <td>37748786</td>\n",
       "      <td>11.85</td>\n",
       "      <td>0.0</td>\n",
       "      <td>493.54</td>\n",
       "      <td>21474836.47</td>\n",
       "      <td>4.908787e+02</td>\n",
       "      <td>93889.93339</td>\n",
       "      <td>655</td>\n",
       "      <td>181</td>\n",
       "      <td>1</td>\n",
       "    </tr>\n",
       "  </tbody>\n",
       "</table>\n",
       "<p>5 rows × 25 columns</p>\n",
       "</div>"
      ],
      "text/plain": [
       "   index  tx_amount  tx_fraud  s_pagerank   s_label  s_min_send_tx  \\\n",
       "0      0        0.0     False     4.37799  58720367            0.0   \n",
       "1      1        0.0     False     0.94411  10485846            0.0   \n",
       "2      2        0.0     False     0.62607  41943056            0.0   \n",
       "3      3        0.0     False     0.58950  13631539            0.0   \n",
       "4      4        0.0     False     0.57978        35            0.0   \n",
       "\n",
       "   s_min_receieve_tx  s_max_send_tx  s_max_recieve_tx  s_avg_send_tx  ...  \\\n",
       "0               3.73    16147263.00       21474836.47   3.424254e+06  ...   \n",
       "1              12.55    14930847.00       11150681.00   1.850771e+06  ...   \n",
       "2              14.54    13832755.00       21474836.47   4.111439e+06  ...   \n",
       "3             166.02    21474836.47          30921.03   3.618203e+06  ...   \n",
       "4             105.06    10701302.00       21474836.47   1.659735e+06  ...   \n",
       "\n",
       "    r_label  r_min_send_tx  r_min_receieve_tx  r_max_send_tx  \\\n",
       "0  17825845         564.67                0.0         564.67   \n",
       "1  52428894        3461.37                0.0    21474836.47   \n",
       "2  10485767        1200.91                0.0    21474836.47   \n",
       "3  59768883         118.33                0.0         118.33   \n",
       "4  37748786          11.85                0.0         493.54   \n",
       "\n",
       "   r_max_recieve_tx  r_avg_send_tx  r_avg_recieve_tx  r_cnt_recieve_tx  \\\n",
       "0        2823050.75   5.646700e+02       67687.90131                61   \n",
       "1        8101879.00   4.897379e+06       65856.86086               187   \n",
       "2       13832713.00   5.057516e+06       59041.37387               297   \n",
       "3       21474836.47   1.183300e+02      140310.31232               521   \n",
       "4       21474836.47   4.908787e+02       93889.93339               655   \n",
       "\n",
       "   r_cnt_send_tx  r_timestamp  \n",
       "0            177            0  \n",
       "1             30            0  \n",
       "2             16            0  \n",
       "3            720            0  \n",
       "4            181            1  \n",
       "\n",
       "[5 rows x 25 columns]"
      ]
     },
     "execution_count": 6,
     "metadata": {},
     "output_type": "execute_result"
    }
   ],
   "source": [
    "df_tx_hop = pd.DataFrame(tx_hop[0][\"@@txRecords\"])\n",
    "df_tx_hop = flat_table.normalize(df_tx_hop)\n",
    "df_tx_hop.head()"
   ]
  },
  {
   "cell_type": "code",
   "execution_count": 10,
   "id": "imported-rough",
   "metadata": {},
   "outputs": [],
   "source": [
    "df_tx_hop.to_csv(r'./tmp/20210412AMLsim.csv', index = False, header=True)"
   ]
  },
  {
   "cell_type": "markdown",
   "id": "plain-priority",
   "metadata": {},
   "source": []
  },
  {
   "cell_type": "markdown",
   "id": "appreciated-asthma",
   "metadata": {},
   "source": [
    "# SageMaker Model Generation \n"
   ]
  },
  {
   "cell_type": "code",
   "execution_count": 11,
   "id": "balanced-receipt",
   "metadata": {},
   "outputs": [],
   "source": [
    "import sagemaker\n",
    "from sagemaker import get_execution_role"
   ]
  },
  {
   "cell_type": "code",
   "execution_count": 12,
   "id": "theoretical-convert",
   "metadata": {},
   "outputs": [],
   "source": [
    "sagemaker_session = sagemaker.Session()"
   ]
  },
  {
   "cell_type": "code",
   "execution_count": 13,
   "id": "synthetic-pantyhose",
   "metadata": {},
   "outputs": [],
   "source": [
    "# Get a SageMaker-compatible role used by this Notebook Instance.\n",
    "role = get_execution_role()"
   ]
  },
  {
   "cell_type": "code",
   "execution_count": 14,
   "id": "proved-payroll",
   "metadata": {},
   "outputs": [
    {
     "data": {
      "text/plain": [
       "'arn:aws:iam::816500858139:role/service-role/AmazonSageMaker-ExecutionRole-20210412T170094'"
      ]
     },
     "execution_count": 14,
     "metadata": {},
     "output_type": "execute_result"
    }
   ],
   "source": [
    "role"
   ]
  },
  {
   "cell_type": "markdown",
   "id": "everyday-solid",
   "metadata": {},
   "source": [
    "## Upload the data for training \n"
   ]
  },
  {
   "cell_type": "code",
   "execution_count": 15,
   "id": "psychological-modem",
   "metadata": {},
   "outputs": [],
   "source": [
    "train_input = sagemaker_session.upload_data(\"tmp\")"
   ]
  },
  {
   "cell_type": "code",
   "execution_count": 16,
   "id": "dynamic-inspiration",
   "metadata": {},
   "outputs": [
    {
     "data": {
      "text/plain": [
       "'s3://sagemaker-us-east-2-816500858139/data'"
      ]
     },
     "execution_count": 16,
     "metadata": {},
     "output_type": "execute_result"
    }
   ],
   "source": [
    "train_input"
   ]
  },
  {
   "cell_type": "markdown",
   "id": "metallic-employee",
   "metadata": {},
   "source": [
    "# Create SageMaker Scikit Estimator"
   ]
  },
  {
   "cell_type": "code",
   "execution_count": 24,
   "id": "charming-repair",
   "metadata": {},
   "outputs": [],
   "source": [
    "from sagemaker.sklearn.estimator import SKLearn\n",
    "\n",
    "script_path = 'fraud-prediction.py'\n",
    "\n",
    "sklearn = SKLearn(\n",
    "    entry_point=script_path,\n",
    "    instance_type=\"ml.m4.xlarge\",\n",
    "    framework_version=\"0.20.0\",\n",
    "    py_version=\"py3\",\n",
    "    role=role,\n",
    "    sagemaker_session=sagemaker_session)"
   ]
  },
  {
   "cell_type": "markdown",
   "id": "parallel-carter",
   "metadata": {},
   "source": [
    "# Train SKLearn Estimator on Startup data \n"
   ]
  },
  {
   "cell_type": "code",
   "execution_count": 25,
   "id": "equal-switzerland",
   "metadata": {},
   "outputs": [
    {
     "name": "stdout",
     "output_type": "stream",
     "text": [
      "2021-04-13 00:48:50 Starting - Starting the training job...\n",
      "2021-04-13 00:49:13 Starting - Launching requested ML instancesProfilerReport-1618274929: InProgress\n",
      "......\n",
      "2021-04-13 00:50:13 Starting - Preparing the instances for training.........\n",
      "2021-04-13 00:51:34 Downloading - Downloading input data...\n",
      "2021-04-13 00:52:21 Training - Training image download completed. Training in progress..\u001b[34m2021-04-13 00:52:21,906 sagemaker-containers INFO     Imported framework sagemaker_sklearn_container.training\u001b[0m\n",
      "\u001b[34m2021-04-13 00:52:21,909 sagemaker-training-toolkit INFO     No GPUs detected (normal if no gpus installed)\u001b[0m\n",
      "\u001b[34m2021-04-13 00:52:21,921 sagemaker_sklearn_container.training INFO     Invoking user training script.\u001b[0m\n",
      "\u001b[34m2021-04-13 00:52:22,313 sagemaker-training-toolkit INFO     No GPUs detected (normal if no gpus installed)\u001b[0m\n",
      "\u001b[34m2021-04-13 00:52:25,349 sagemaker-training-toolkit INFO     No GPUs detected (normal if no gpus installed)\u001b[0m\n",
      "\u001b[34m2021-04-13 00:52:25,365 sagemaker-training-toolkit INFO     No GPUs detected (normal if no gpus installed)\u001b[0m\n",
      "\u001b[34m2021-04-13 00:52:25,377 sagemaker-training-toolkit INFO     Invoking user script\n",
      "\u001b[0m\n",
      "\u001b[34mTraining Env:\n",
      "\u001b[0m\n",
      "\u001b[34m{\n",
      "    \"additional_framework_parameters\": {},\n",
      "    \"channel_input_dirs\": {\n",
      "        \"train\": \"/opt/ml/input/data/train\"\n",
      "    },\n",
      "    \"current_host\": \"algo-1\",\n",
      "    \"framework_module\": \"sagemaker_sklearn_container.training:main\",\n",
      "    \"hosts\": [\n",
      "        \"algo-1\"\n",
      "    ],\n",
      "    \"hyperparameters\": {},\n",
      "    \"input_config_dir\": \"/opt/ml/input/config\",\n",
      "    \"input_data_config\": {\n",
      "        \"train\": {\n",
      "            \"TrainingInputMode\": \"File\",\n",
      "            \"S3DistributionType\": \"FullyReplicated\",\n",
      "            \"RecordWrapperType\": \"None\"\n",
      "        }\n",
      "    },\n",
      "    \"input_dir\": \"/opt/ml/input\",\n",
      "    \"is_master\": true,\n",
      "    \"job_name\": \"sagemaker-scikit-learn-2021-04-13-00-48-49-840\",\n",
      "    \"log_level\": 20,\n",
      "    \"master_hostname\": \"algo-1\",\n",
      "    \"model_dir\": \"/opt/ml/model\",\n",
      "    \"module_dir\": \"s3://sagemaker-us-east-2-816500858139/sagemaker-scikit-learn-2021-04-13-00-48-49-840/source/sourcedir.tar.gz\",\n",
      "    \"module_name\": \"fraud-prediction\",\n",
      "    \"network_interface_name\": \"eth0\",\n",
      "    \"num_cpus\": 4,\n",
      "    \"num_gpus\": 0,\n",
      "    \"output_data_dir\": \"/opt/ml/output/data\",\n",
      "    \"output_dir\": \"/opt/ml/output\",\n",
      "    \"output_intermediate_dir\": \"/opt/ml/output/intermediate\",\n",
      "    \"resource_config\": {\n",
      "        \"current_host\": \"algo-1\",\n",
      "        \"hosts\": [\n",
      "            \"algo-1\"\n",
      "        ],\n",
      "        \"network_interface_name\": \"eth0\"\n",
      "    },\n",
      "    \"user_entry_point\": \"fraud-prediction.py\"\u001b[0m\n",
      "\u001b[34m}\n",
      "\u001b[0m\n",
      "\u001b[34mEnvironment variables:\n",
      "\u001b[0m\n",
      "\u001b[34mSM_HOSTS=[\"algo-1\"]\u001b[0m\n",
      "\u001b[34mSM_NETWORK_INTERFACE_NAME=eth0\u001b[0m\n",
      "\u001b[34mSM_HPS={}\u001b[0m\n",
      "\u001b[34mSM_USER_ENTRY_POINT=fraud-prediction.py\u001b[0m\n",
      "\u001b[34mSM_FRAMEWORK_PARAMS={}\u001b[0m\n",
      "\u001b[34mSM_RESOURCE_CONFIG={\"current_host\":\"algo-1\",\"hosts\":[\"algo-1\"],\"network_interface_name\":\"eth0\"}\u001b[0m\n",
      "\u001b[34mSM_INPUT_DATA_CONFIG={\"train\":{\"RecordWrapperType\":\"None\",\"S3DistributionType\":\"FullyReplicated\",\"TrainingInputMode\":\"File\"}}\u001b[0m\n",
      "\u001b[34mSM_OUTPUT_DATA_DIR=/opt/ml/output/data\u001b[0m\n",
      "\u001b[34mSM_CHANNELS=[\"train\"]\u001b[0m\n",
      "\u001b[34mSM_CURRENT_HOST=algo-1\u001b[0m\n",
      "\u001b[34mSM_MODULE_NAME=fraud-prediction\u001b[0m\n",
      "\u001b[34mSM_LOG_LEVEL=20\u001b[0m\n",
      "\u001b[34mSM_FRAMEWORK_MODULE=sagemaker_sklearn_container.training:main\u001b[0m\n",
      "\u001b[34mSM_INPUT_DIR=/opt/ml/input\u001b[0m\n",
      "\u001b[34mSM_INPUT_CONFIG_DIR=/opt/ml/input/config\u001b[0m\n",
      "\u001b[34mSM_OUTPUT_DIR=/opt/ml/output\u001b[0m\n",
      "\u001b[34mSM_NUM_CPUS=4\u001b[0m\n",
      "\u001b[34mSM_NUM_GPUS=0\u001b[0m\n",
      "\u001b[34mSM_MODEL_DIR=/opt/ml/model\u001b[0m\n",
      "\u001b[34mSM_MODULE_DIR=s3://sagemaker-us-east-2-816500858139/sagemaker-scikit-learn-2021-04-13-00-48-49-840/source/sourcedir.tar.gz\u001b[0m\n",
      "\u001b[34mSM_TRAINING_ENV={\"additional_framework_parameters\":{},\"channel_input_dirs\":{\"train\":\"/opt/ml/input/data/train\"},\"current_host\":\"algo-1\",\"framework_module\":\"sagemaker_sklearn_container.training:main\",\"hosts\":[\"algo-1\"],\"hyperparameters\":{},\"input_config_dir\":\"/opt/ml/input/config\",\"input_data_config\":{\"train\":{\"RecordWrapperType\":\"None\",\"S3DistributionType\":\"FullyReplicated\",\"TrainingInputMode\":\"File\"}},\"input_dir\":\"/opt/ml/input\",\"is_master\":true,\"job_name\":\"sagemaker-scikit-learn-2021-04-13-00-48-49-840\",\"log_level\":20,\"master_hostname\":\"algo-1\",\"model_dir\":\"/opt/ml/model\",\"module_dir\":\"s3://sagemaker-us-east-2-816500858139/sagemaker-scikit-learn-2021-04-13-00-48-49-840/source/sourcedir.tar.gz\",\"module_name\":\"fraud-prediction\",\"network_interface_name\":\"eth0\",\"num_cpus\":4,\"num_gpus\":0,\"output_data_dir\":\"/opt/ml/output/data\",\"output_dir\":\"/opt/ml/output\",\"output_intermediate_dir\":\"/opt/ml/output/intermediate\",\"resource_config\":{\"current_host\":\"algo-1\",\"hosts\":[\"algo-1\"],\"network_interface_name\":\"eth0\"},\"user_entry_point\":\"fraud-prediction.py\"}\u001b[0m\n",
      "\u001b[34mSM_USER_ARGS=[]\u001b[0m\n",
      "\u001b[34mSM_OUTPUT_INTERMEDIATE_DIR=/opt/ml/output/intermediate\u001b[0m\n",
      "\u001b[34mSM_CHANNEL_TRAIN=/opt/ml/input/data/train\u001b[0m\n",
      "\u001b[34mPYTHONPATH=/opt/ml/code:/miniconda3/bin:/miniconda3/lib/python37.zip:/miniconda3/lib/python3.7:/miniconda3/lib/python3.7/lib-dynload:/miniconda3/lib/python3.7/site-packages\n",
      "\u001b[0m\n",
      "\u001b[34mInvoking script with the following command:\n",
      "\u001b[0m\n",
      "\u001b[34m/miniconda3/bin/python fraud-prediction.py\n",
      "\n",
      "\u001b[0m\n",
      "\u001b[34m/miniconda3/lib/python3.7/site-packages/sklearn/externals/joblib/externals/cloudpickle/cloudpickle.py:47: DeprecationWarning: the imp module is deprecated in favour of importlib; see the module's documentation for alternative uses\n",
      "  import imp\u001b[0m\n",
      "\u001b[34m/miniconda3/lib/python3.7/site-packages/sklearn/tree/tree.py:149: DeprecationWarning: `np.int` is a deprecated alias for the builtin `int`. To silence this warning, use `int` by itself. Doing this will not modify any behavior and is safe. When replacing `np.int`, you may wish to use e.g. `np.int64` or `np.int32` to specify the precision. If you wish to review your current use, check the release note link for additional information.\u001b[0m\n",
      "\u001b[34mDeprecated in NumPy 1.20; for more details and guidance: https://numpy.org/devdocs/release/1.20.0-notes.html#deprecations\n",
      "  y_encoded = np.zeros(y.shape, dtype=np.int)\u001b[0m\n",
      "\u001b[34m/miniconda3/lib/python3.7/site-packages/sklearn/externals/joblib/numpy_pickle.py:104: DeprecationWarning: tostring() is deprecated. Use tobytes() instead.\n",
      "  pickler.file_handle.write(chunk.tostring('C'))\u001b[0m\n",
      "\u001b[34m/miniconda3/lib/python3.7/site-packages/sklearn/externals/joblib/numpy_pickle.py:104: DeprecationWarning: tostring() is deprecated. Use tobytes() instead.\n",
      "  pickler.file_handle.write(chunk.tostring('C'))\u001b[0m\n",
      "\u001b[34m/miniconda3/lib/python3.7/site-packages/sklearn/externals/joblib/numpy_pickle.py:104: DeprecationWarning: tostring() is deprecated. Use tobytes() instead.\n",
      "  pickler.file_handle.write(chunk.tostring('C'))\u001b[0m\n",
      "\u001b[34m/miniconda3/lib/python3.7/site-packages/sklearn/externals/joblib/numpy_pickle.py:104: DeprecationWarning: tostring() is deprecated. Use tobytes() instead.\n",
      "  pickler.file_handle.write(chunk.tostring('C'))\u001b[0m\n",
      "\u001b[34m2021-04-13 00:52:29,226 sagemaker-containers INFO     Reporting training SUCCESS\u001b[0m\n",
      "\n",
      "2021-04-13 00:52:39 Uploading - Uploading generated training model\n",
      "2021-04-13 00:52:39 Completed - Training job completed\n",
      "Training seconds: 77\n",
      "Billable seconds: 77\n"
     ]
    }
   ],
   "source": [
    "sklearn.fit({'train': train_input})"
   ]
  },
  {
   "cell_type": "markdown",
   "id": "sonic-rover",
   "metadata": {},
   "source": [
    "# Deploy the model "
   ]
  },
  {
   "cell_type": "code",
   "execution_count": 26,
   "id": "decent-demand",
   "metadata": {},
   "outputs": [
    {
     "name": "stdout",
     "output_type": "stream",
     "text": [
      "---------------!"
     ]
    }
   ],
   "source": [
    "deployment = sklearn.deploy(initial_instance_count=1, instance_type=\"ml.m4.xlarge\")"
   ]
  },
  {
   "cell_type": "code",
   "execution_count": 27,
   "id": "varied-glory",
   "metadata": {},
   "outputs": [
    {
     "name": "stderr",
     "output_type": "stream",
     "text": [
      "The endpoint attribute has been renamed in sagemaker>=2.\n",
      "See: https://sagemaker.readthedocs.io/en/stable/v2.html for details.\n"
     ]
    },
    {
     "data": {
      "text/plain": [
       "'sagemaker-scikit-learn-2021-04-13-00-53-12-835'"
      ]
     },
     "execution_count": 27,
     "metadata": {},
     "output_type": "execute_result"
    }
   ],
   "source": [
    "deployment.endpoint"
   ]
  },
  {
   "cell_type": "code",
   "execution_count": null,
   "id": "public-witness",
   "metadata": {},
   "outputs": [],
   "source": []
  }
 ],
 "metadata": {
  "kernelspec": {
   "display_name": "conda_python3",
   "language": "python",
   "name": "conda_python3"
  },
  "language_info": {
   "codemirror_mode": {
    "name": "ipython",
    "version": 3
   },
   "file_extension": ".py",
   "mimetype": "text/x-python",
   "name": "python",
   "nbconvert_exporter": "python",
   "pygments_lexer": "ipython3",
   "version": "3.6.13"
  }
 },
 "nbformat": 4,
 "nbformat_minor": 5
}