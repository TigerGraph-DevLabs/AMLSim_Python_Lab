{
 "cells": [
  {
   "cell_type": "code",
   "execution_count": 6,
   "id": "impaired-version",
   "metadata": {},
   "outputs": [
    {
     "name": "stdout",
     "output_type": "stream",
     "text": [
      "Requirement already satisfied: pyTigerGraphBeta in /home/ec2-user/anaconda3/envs/python3/lib/python3.6/site-packages (0.0.9.7)\n",
      "Requirement already satisfied: validators in /home/ec2-user/anaconda3/envs/python3/lib/python3.6/site-packages (from pyTigerGraphBeta) (0.18.2)\n",
      "Requirement already satisfied: requests in /home/ec2-user/anaconda3/envs/python3/lib/python3.6/site-packages (from pyTigerGraphBeta) (2.25.1)\n",
      "Requirement already satisfied: pyTigerDriver==1.0.6 in /home/ec2-user/anaconda3/envs/python3/lib/python3.6/site-packages (from pyTigerGraphBeta) (1.0.6)\n",
      "Requirement already satisfied: pandas in /home/ec2-user/anaconda3/envs/python3/lib/python3.6/site-packages (from pyTigerGraphBeta) (1.1.5)\n",
      "Requirement already satisfied: python-dateutil>=2.7.3 in /home/ec2-user/anaconda3/envs/python3/lib/python3.6/site-packages (from pandas->pyTigerGraphBeta) (2.8.1)\n",
      "Requirement already satisfied: pytz>=2017.2 in /home/ec2-user/anaconda3/envs/python3/lib/python3.6/site-packages (from pandas->pyTigerGraphBeta) (2021.1)\n",
      "Requirement already satisfied: numpy>=1.15.4 in /home/ec2-user/anaconda3/envs/python3/lib/python3.6/site-packages (from pandas->pyTigerGraphBeta) (1.19.5)\n",
      "Requirement already satisfied: six>=1.5 in /home/ec2-user/anaconda3/envs/python3/lib/python3.6/site-packages (from python-dateutil>=2.7.3->pandas->pyTigerGraphBeta) (1.15.0)\n",
      "Requirement already satisfied: urllib3<1.27,>=1.21.1 in /home/ec2-user/anaconda3/envs/python3/lib/python3.6/site-packages (from requests->pyTigerGraphBeta) (1.26.4)\n",
      "Requirement already satisfied: idna<3,>=2.5 in /home/ec2-user/anaconda3/envs/python3/lib/python3.6/site-packages (from requests->pyTigerGraphBeta) (2.10)\n",
      "Requirement already satisfied: chardet<5,>=3.0.2 in /home/ec2-user/anaconda3/envs/python3/lib/python3.6/site-packages (from requests->pyTigerGraphBeta) (3.0.4)\n",
      "Requirement already satisfied: certifi>=2017.4.17 in /home/ec2-user/anaconda3/envs/python3/lib/python3.6/site-packages (from requests->pyTigerGraphBeta) (2020.12.5)\n",
      "Requirement already satisfied: decorator>=3.4.0 in /home/ec2-user/anaconda3/envs/python3/lib/python3.6/site-packages (from validators->pyTigerGraphBeta) (4.4.2)\n",
      "Requirement already satisfied: flat-table in /home/ec2-user/anaconda3/envs/python3/lib/python3.6/site-packages (1.1.1)\n",
      "Requirement already satisfied: numpy in /home/ec2-user/anaconda3/envs/python3/lib/python3.6/site-packages (from flat-table) (1.19.5)\n",
      "Requirement already satisfied: pandas in /home/ec2-user/anaconda3/envs/python3/lib/python3.6/site-packages (from flat-table) (1.1.5)\n",
      "Requirement already satisfied: python-dateutil>=2.7.3 in /home/ec2-user/anaconda3/envs/python3/lib/python3.6/site-packages (from pandas->flat-table) (2.8.1)\n",
      "Requirement already satisfied: pytz>=2017.2 in /home/ec2-user/anaconda3/envs/python3/lib/python3.6/site-packages (from pandas->flat-table) (2021.1)\n",
      "Requirement already satisfied: six>=1.5 in /home/ec2-user/anaconda3/envs/python3/lib/python3.6/site-packages (from python-dateutil>=2.7.3->pandas->flat-table) (1.15.0)\n",
      "Requirement already satisfied: catboost in /home/ec2-user/anaconda3/envs/python3/lib/python3.6/site-packages (0.25.1)\n",
      "Requirement already satisfied: numpy>=1.16.0 in /home/ec2-user/anaconda3/envs/python3/lib/python3.6/site-packages (from catboost) (1.19.5)\n",
      "Requirement already satisfied: pandas>=0.24.0 in /home/ec2-user/anaconda3/envs/python3/lib/python3.6/site-packages (from catboost) (1.1.5)\n",
      "Requirement already satisfied: scipy in /home/ec2-user/anaconda3/envs/python3/lib/python3.6/site-packages (from catboost) (1.5.3)\n",
      "Requirement already satisfied: matplotlib in /home/ec2-user/anaconda3/envs/python3/lib/python3.6/site-packages (from catboost) (3.3.4)\n",
      "Requirement already satisfied: plotly in /home/ec2-user/anaconda3/envs/python3/lib/python3.6/site-packages (from catboost) (4.14.3)\n",
      "Requirement already satisfied: graphviz in /home/ec2-user/anaconda3/envs/python3/lib/python3.6/site-packages (from catboost) (0.16)\n",
      "Requirement already satisfied: six in /home/ec2-user/anaconda3/envs/python3/lib/python3.6/site-packages (from catboost) (1.15.0)\n",
      "Requirement already satisfied: python-dateutil>=2.7.3 in /home/ec2-user/anaconda3/envs/python3/lib/python3.6/site-packages (from pandas>=0.24.0->catboost) (2.8.1)\n",
      "Requirement already satisfied: pytz>=2017.2 in /home/ec2-user/anaconda3/envs/python3/lib/python3.6/site-packages (from pandas>=0.24.0->catboost) (2021.1)\n",
      "Requirement already satisfied: pyparsing!=2.0.4,!=2.1.2,!=2.1.6,>=2.0.3 in /home/ec2-user/anaconda3/envs/python3/lib/python3.6/site-packages (from matplotlib->catboost) (2.4.7)\n",
      "Requirement already satisfied: kiwisolver>=1.0.1 in /home/ec2-user/anaconda3/envs/python3/lib/python3.6/site-packages (from matplotlib->catboost) (1.3.1)\n",
      "Requirement already satisfied: pillow>=6.2.0 in /home/ec2-user/anaconda3/envs/python3/lib/python3.6/site-packages (from matplotlib->catboost) (7.2.0)\n",
      "Requirement already satisfied: cycler>=0.10 in /home/ec2-user/anaconda3/envs/python3/lib/python3.6/site-packages (from matplotlib->catboost) (0.10.0)\n",
      "Requirement already satisfied: retrying>=1.3.3 in /home/ec2-user/anaconda3/envs/python3/lib/python3.6/site-packages (from plotly->catboost) (1.3.3)\n"
     ]
    }
   ],
   "source": [
    "!pip install pyTigerGraphBeta\n",
    "!pip install flat-table\n",
    "!pip install catboost\n",
    "\n",
    "import numpy as np\n",
    "from catboost import CatBoostClassifier, Pool\n",
    "import pyTigerGraphBeta as tg\n",
    "import pandas as pd\n",
    "import flat_table\n",
    "import IPython.display as disp"
   ]
  },
  {
   "cell_type": "code",
   "execution_count": 7,
   "id": "apparent-privilege",
   "metadata": {},
   "outputs": [],
   "source": [
    "conn = tg.TigerGraphConnection(host=\"https://aml-sim-sagemaker.i.tgcloud.io\", username=\"tigergraph\", password=\"tigergraph\", graphname = \"AMLSim\")\n",
    "conn.apiToken = conn.getToken(\"0dqle85rg436lg25qabtki0lqenunfvj\")"
   ]
  },
  {
   "cell_type": "code",
   "execution_count": null,
   "id": "published-evans",
   "metadata": {},
   "outputs": [],
   "source": [
    "# TEST TO SEE IF GRAPH SCHEMA BUILT\n",
    "print(conn.gsql('''LS''', options=[]))"
   ]
  },
  {
   "cell_type": "code",
   "execution_count": null,
   "id": "digital-worship",
   "metadata": {},
   "outputs": [],
   "source": [
    "results = conn.getEndpoints()\n",
    "disp.JSON(results)"
   ]
  },
  {
   "cell_type": "markdown",
   "id": "enabling-receiver",
   "metadata": {},
   "source": [
    "Let's take a look at our Data\n"
   ]
  },
  {
   "cell_type": "code",
   "execution_count": null,
   "id": "surprising-configuration",
   "metadata": {},
   "outputs": [],
   "source": [
    "df1 = pd.read_csv('/home/ec2-user/SageMaker/AMLSim_Python_Lab/data/accounts.csv')\n",
    "df2 = pd.read_csv('/home/ec2-user/SageMaker/AMLSim_Python_Lab/data/alerts.csv')\n",
    "df3 = pd.read_csv('/home/ec2-user/SageMaker/AMLSim_Python_Lab/data/transactions.csv')"
   ]
  },
  {
   "cell_type": "code",
   "execution_count": null,
   "id": "developmental-vietnamese",
   "metadata": {},
   "outputs": [],
   "source": [
    "df1.head()"
   ]
  },
  {
   "cell_type": "code",
   "execution_count": null,
   "id": "printable-shadow",
   "metadata": {},
   "outputs": [],
   "source": [
    "df2.head()"
   ]
  },
  {
   "cell_type": "code",
   "execution_count": null,
   "id": "executive-spanish",
   "metadata": {},
   "outputs": [],
   "source": [
    "df3.head()"
   ]
  },
  {
   "cell_type": "code",
   "execution_count": null,
   "id": "junior-synthetic",
   "metadata": {},
   "outputs": [],
   "source": [
    "info = conn.runInstalledQuery(\"accountInfo\", {\"limit_x\":\"2\"})\n",
    "disp.JSON(info)"
   ]
  },
  {
   "cell_type": "code",
   "execution_count": null,
   "id": "fantastic-calculation",
   "metadata": {},
   "outputs": [],
   "source": [
    "print(conn.runInstalledQuery(\"accountActivity\", {}))"
   ]
  },
  {
   "cell_type": "code",
   "execution_count": null,
   "id": "endangered-albany",
   "metadata": {},
   "outputs": [],
   "source": [
    "print(conn.runInstalledQuery(\"pageRank\", {\"v_type\":\"Account\", \"e_type\":\"Send_To\", \"max_change\":\"0.001\", \"max_iter\":\"25\", \"damping\":\"0.85\", \"top_k\":\"10\", \"print_accum\":\"TRUE\", \"result_attr\":\"pagerank\", \"file_path\":\"\", \"display_edges\":\"FALSE\"}))"
   ]
  },
  {
   "cell_type": "code",
   "execution_count": null,
   "id": "loaded-scenario",
   "metadata": {},
   "outputs": [],
   "source": [
    "label_prop = conn.runInstalledQuery(\"label_prop\", {\"v_type\":\"Account\", \"e_type\":\"Send_To\", \"max_iter\":\"10\", \"output_limit\":\"10\", \"print_accum\":\"TRUE\", \"file_path\":\"\", \"attr\":\"label\"})\n",
    "disp.JSON(label_prop)"
   ]
  },
  {
   "cell_type": "code",
   "execution_count": null,
   "id": "composite-convention",
   "metadata": {},
   "outputs": [],
   "source": [
    "info = conn.runInstalledQuery(\"accountInfo\", {\"limit_x\":\"2\"})\n",
    "disp.JSON(info)"
   ]
  },
  {
   "cell_type": "code",
   "execution_count": null,
   "id": "former-touch",
   "metadata": {},
   "outputs": [],
   "source": [
    "# RUN INSTALLED QUERY selectAccount\n",
    "print(conn.runInstalledQuery(\"allTransactions\", {}, sizeLimit=\"524288000\"))"
   ]
  },
  {
   "cell_type": "code",
   "execution_count": null,
   "id": "placed-handy",
   "metadata": {},
   "outputs": [],
   "source": [
    "allAccount = conn.runInstalledQuery(\"allAccount\", {}, sizeLimit=\"524288000\")"
   ]
  },
  {
   "cell_type": "code",
   "execution_count": null,
   "id": "powered-cassette",
   "metadata": {},
   "outputs": [],
   "source": [
    "allRecieveTransactions = conn.runInstalledQuery(\"allRecieveTransactions\", {}, sizeLimit=\"524288000\")"
   ]
  },
  {
   "cell_type": "code",
   "execution_count": null,
   "id": "awful-sacramento",
   "metadata": {},
   "outputs": [],
   "source": [
    "disp.JSON(allRecieveTransactions)"
   ]
  },
  {
   "cell_type": "code",
   "execution_count": null,
   "id": "diverse-translation",
   "metadata": {},
   "outputs": [],
   "source": [
    "allSendTransactions = conn.runInstalledQuery(\"allSendTransactions\", {}, sizeLimit=\"524288000\")"
   ]
  },
  {
   "cell_type": "code",
   "execution_count": 5,
   "id": "deluxe-registrar",
   "metadata": {},
   "outputs": [],
   "source": [
    "tx_info = conn.runInstalledQuery(\"accountTxInfo\", {}, sizeLimit=\"524288000\")"
   ]
  },
  {
   "cell_type": "code",
   "execution_count": null,
   "id": "incorporated-estimate",
   "metadata": {},
   "outputs": [],
   "source": [
    "tx_hop = conn.runInstalledQuery(\"txMultiHop\", {}, timeout=\"10000000000000000\", sizeLimit=\"524288000\")\n",
    "disp.JSON(tx_hop)"
   ]
  },
  {
   "cell_type": "code",
   "execution_count": null,
   "id": "seventh-viking",
   "metadata": {},
   "outputs": [],
   "source": [
    "df_allAccount = pd.DataFrame(allAccount[0][\"S3\"]) # Grab only the data we are returning\n",
    "df_allRecieveTransactions = pd.DataFrame(allRecieveTransactions[0][\"S2\"])\n",
    "df_allSendTransactions = pd.DataFrame(allSendTransactions[0][\"S1\"])"
   ]
  },
  {
   "cell_type": "code",
   "execution_count": null,
   "id": "generic-career",
   "metadata": {},
   "outputs": [],
   "source": [
    "df_allAccount = flat_table.normalize(df_allAccount)\n",
    "df_allRecieveTransactions = flat_table.normalize(df_allRecieveTransactions)\n",
    "df_allSendTransactions = flat_table.normalize(df_allSendTransactions)"
   ]
  },
  {
   "cell_type": "code",
   "execution_count": null,
   "id": "ecological-messaging",
   "metadata": {},
   "outputs": [],
   "source": [
    "df_allAccount.head()"
   ]
  },
  {
   "cell_type": "code",
   "execution_count": null,
   "id": "appreciated-murder",
   "metadata": {},
   "outputs": [],
   "source": [
    "df_allRecieveTransactions.head()"
   ]
  },
  {
   "cell_type": "code",
   "execution_count": null,
   "id": "disabled-lambda",
   "metadata": {},
   "outputs": [],
   "source": [
    "df_allSendTransactions.head()"
   ]
  },
  {
   "cell_type": "code",
   "execution_count": null,
   "id": "straight-mustang",
   "metadata": {},
   "outputs": [],
   "source": [
    "df_allAccount.merge()"
   ]
  },
  {
   "cell_type": "code",
   "execution_count": null,
   "id": "floating-parks",
   "metadata": {},
   "outputs": [],
   "source": []
  }
 ],
 "metadata": {
  "kernelspec": {
   "display_name": "conda_python3",
   "language": "python",
   "name": "conda_python3"
  },
  "language_info": {
   "codemirror_mode": {
    "name": "ipython",
    "version": 3
   },
   "file_extension": ".py",
   "mimetype": "text/x-python",
   "name": "python",
   "nbconvert_exporter": "python",
   "pygments_lexer": "ipython3",
   "version": "3.6.13"
  }
 },
 "nbformat": 4,
 "nbformat_minor": 5
}
