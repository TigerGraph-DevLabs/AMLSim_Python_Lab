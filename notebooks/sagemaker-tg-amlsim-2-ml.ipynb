{
 "cells": [
  {
   "cell_type": "code",
   "execution_count": 1,
   "id": "green-serial",
   "metadata": {},
   "outputs": [
    {
     "name": "stdout",
     "output_type": "stream",
     "text": [
      "Collecting pyTigerGraphBeta\n",
      "  Downloading pyTigerGraphBeta-0.0.9.7-py3-none-any.whl (19 kB)\n",
      "Requirement already satisfied: requests in /home/ec2-user/anaconda3/envs/python3/lib/python3.6/site-packages (from pyTigerGraphBeta) (2.25.1)\n",
      "Requirement already satisfied: pandas in /home/ec2-user/anaconda3/envs/python3/lib/python3.6/site-packages (from pyTigerGraphBeta) (1.1.5)\n",
      "Collecting validators\n",
      "  Downloading validators-0.18.2-py3-none-any.whl (19 kB)\n",
      "Collecting pyTigerDriver==1.0.6\n",
      "  Downloading pyTigerDriver-1.0.6-py3-none-any.whl (11 kB)\n",
      "Requirement already satisfied: python-dateutil>=2.7.3 in /home/ec2-user/anaconda3/envs/python3/lib/python3.6/site-packages (from pandas->pyTigerGraphBeta) (2.8.1)\n",
      "Requirement already satisfied: pytz>=2017.2 in /home/ec2-user/anaconda3/envs/python3/lib/python3.6/site-packages (from pandas->pyTigerGraphBeta) (2021.1)\n",
      "Requirement already satisfied: numpy>=1.15.4 in /home/ec2-user/anaconda3/envs/python3/lib/python3.6/site-packages (from pandas->pyTigerGraphBeta) (1.19.5)\n",
      "Requirement already satisfied: six>=1.5 in /home/ec2-user/anaconda3/envs/python3/lib/python3.6/site-packages (from python-dateutil>=2.7.3->pandas->pyTigerGraphBeta) (1.15.0)\n",
      "Requirement already satisfied: urllib3<1.27,>=1.21.1 in /home/ec2-user/anaconda3/envs/python3/lib/python3.6/site-packages (from requests->pyTigerGraphBeta) (1.26.4)\n",
      "Requirement already satisfied: certifi>=2017.4.17 in /home/ec2-user/anaconda3/envs/python3/lib/python3.6/site-packages (from requests->pyTigerGraphBeta) (2020.12.5)\n",
      "Requirement already satisfied: idna<3,>=2.5 in /home/ec2-user/anaconda3/envs/python3/lib/python3.6/site-packages (from requests->pyTigerGraphBeta) (2.10)\n",
      "Requirement already satisfied: chardet<5,>=3.0.2 in /home/ec2-user/anaconda3/envs/python3/lib/python3.6/site-packages (from requests->pyTigerGraphBeta) (3.0.4)\n",
      "Requirement already satisfied: decorator>=3.4.0 in /home/ec2-user/anaconda3/envs/python3/lib/python3.6/site-packages (from validators->pyTigerGraphBeta) (4.4.2)\n",
      "Installing collected packages: validators, pyTigerDriver, pyTigerGraphBeta\n",
      "Successfully installed pyTigerDriver-1.0.6 pyTigerGraphBeta-0.0.9.7 validators-0.18.2\n",
      "Collecting flat-table\n",
      "  Downloading flat_table-1.1.1-py3-none-any.whl (6.8 kB)\n",
      "Requirement already satisfied: pandas in /home/ec2-user/anaconda3/envs/python3/lib/python3.6/site-packages (from flat-table) (1.1.5)\n",
      "Requirement already satisfied: numpy in /home/ec2-user/anaconda3/envs/python3/lib/python3.6/site-packages (from flat-table) (1.19.5)\n",
      "Requirement already satisfied: python-dateutil>=2.7.3 in /home/ec2-user/anaconda3/envs/python3/lib/python3.6/site-packages (from pandas->flat-table) (2.8.1)\n",
      "Requirement already satisfied: pytz>=2017.2 in /home/ec2-user/anaconda3/envs/python3/lib/python3.6/site-packages (from pandas->flat-table) (2021.1)\n",
      "Requirement already satisfied: six>=1.5 in /home/ec2-user/anaconda3/envs/python3/lib/python3.6/site-packages (from python-dateutil>=2.7.3->pandas->flat-table) (1.15.0)\n",
      "Installing collected packages: flat-table\n",
      "Successfully installed flat-table-1.1.1\n"
     ]
    }
   ],
   "source": [
    "!pip install pyTigerGraphBeta\n",
    "!pip install flat-table\n",
    "\n",
    "import pyTigerGraphBeta as tg\n",
    "import pandas as pd\n",
    "import flat_table\n",
    "import IPython.display as disp\n",
    "\n",
    "from sklearn.model_selection import train_test_split\n",
    "from sklearn.tree import DecisionTreeClassifier\n",
    "from sklearn.metrics import confusion_matrix, classification_report"
   ]
  },
  {
   "cell_type": "code",
   "execution_count": 2,
   "id": "confused-ministry",
   "metadata": {},
   "outputs": [],
   "source": [
    "conn = tg.TigerGraphConnection(host=\"https://aml-sim-sagemaker.i.tgcloud.io\", username=\"tigergraph\", password=\"tigergraph\", graphname = \"AMLSim\")\n",
    "conn.apiToken = conn.getToken(\"0dqle85rg436lg25qabtki0lqenunfvj\")"
   ]
  },
  {
   "cell_type": "code",
   "execution_count": null,
   "id": "french-bicycle",
   "metadata": {},
   "outputs": [],
   "source": [
    "tx_hop = conn.runInstalledQuery(\"txMultiHop\", {}, timeout=\"10000000000000000\", sizeLimit=\"1500000000\")"
   ]
  },
  {
   "cell_type": "code",
   "execution_count": null,
   "id": "unauthorized-alaska",
   "metadata": {},
   "outputs": [],
   "source": [
    "df_tx_hop = pd.DataFrame(tx_hop[0][\"@@txRecords\"])\n",
    "df_tx_hop = flat_table.normalize(df_tx_hop)\n",
    "df_tx_hop.head()"
   ]
  },
  {
   "cell_type": "code",
   "execution_count": null,
   "id": "relevant-letters",
   "metadata": {},
   "outputs": [],
   "source": [
    "features = ['tx_amount', 's_pagerank', 's_label', 's_min_send_tx', 's_min_receieve_tx', 's_max_send_tx', 's_max_recieve_tx', 's_avg_send_tx', 's_avg_recieve_tx', 's_cnt_recieve_tx', 's_cnt_send_tx', 's_timestamp', 'r_pagerank', 'r_label', 'r_min_send_tx', 'r_min_receieve_tx', 'r_max_send_tx', 'r_max_recieve_tx', 'r_avg_send_tx', 'r_avg_recieve_tx', 'r_cnt_recieve_tx', 'r_cnt_send_tx', 'r_timestamp']"
   ]
  },
  {
   "cell_type": "code",
   "execution_count": null,
   "id": "dress-sudan",
   "metadata": {},
   "outputs": [],
   "source": [
    "X_train, X_test, y_train, y_test = train_test_split(df_tx_hop[features], df_tx_hop[\"tx_fraud\"], test_size=0.2, random_state=42)"
   ]
  },
  {
   "cell_type": "code",
   "execution_count": null,
   "id": "accessory-moral",
   "metadata": {},
   "outputs": [],
   "source": [
    "clf = DecisionTreeClassifier()"
   ]
  },
  {
   "cell_type": "code",
   "execution_count": null,
   "id": "printable-shame",
   "metadata": {},
   "outputs": [],
   "source": [
    "clf.fit(X_train, y_train)"
   ]
  },
  {
   "cell_type": "code",
   "execution_count": null,
   "id": "athletic-arkansas",
   "metadata": {},
   "outputs": [],
   "source": [
    "preds = clf.predict(X_test)\n",
    "confusion_matrix(y_test, preds)"
   ]
  },
  {
   "cell_type": "code",
   "execution_count": null,
   "id": "damaged-collectible",
   "metadata": {},
   "outputs": [],
   "source": [
    "print(classification_report(y_test, preds))"
   ]
  },
  {
   "cell_type": "code",
   "execution_count": null,
   "id": "wanted-manhattan",
   "metadata": {},
   "outputs": [],
   "source": []
  }
 ],
 "metadata": {
  "kernelspec": {
   "display_name": "conda_python3",
   "language": "python",
   "name": "conda_python3"
  },
  "language_info": {
   "codemirror_mode": {
    "name": "ipython",
    "version": 3
   },
   "file_extension": ".py",
   "mimetype": "text/x-python",
   "name": "python",
   "nbconvert_exporter": "python",
   "pygments_lexer": "ipython3",
   "version": "3.6.13"
  }
 },
 "nbformat": 4,
 "nbformat_minor": 5
}
